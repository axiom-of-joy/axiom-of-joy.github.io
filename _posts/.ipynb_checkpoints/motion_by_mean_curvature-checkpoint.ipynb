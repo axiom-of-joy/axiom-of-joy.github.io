{
 "cells": [
  {
   "cell_type": "markdown",
   "metadata": {
    "slideshow": {
     "slide_type": "slide"
    }
   },
   "source": [
    "# Motion by Mean Curvature\n",
    "\n",
    "This post explains and implements the MBO (Merriman-Bence-Osher) scheme for diffusion generated motion by mean curvature [<a id=\"call-merriman1992diffusion\" href=\"#cit-merriman1992diffusion\">1</a>]. The MBO scheme is a strikingly simple method to model mean curvature flow, also known as motion by mean curvature. I first provide a brief introduction to the phenomenon of motion by mean curvature and the physical contexts in which it arises. I then explain and motivate one possible implementation of the MBO scheme and use this implementation to produce some cool pictures and videos.\n",
    "\n",
    "## Introduction\n",
    "\n",
    "To illustrate motion by mean curvature, suppose that \\(\\Omega \\subset \\mathbb R^2\\) is a subset of the plane partitioned into two parts separated by a boundary \\(\\partial\\), as in the following picture.\n",
    "\n",
    "<figure>\n",
    "  <img src=\"./media/motion_by_mean_curvature/images/threshold0.jpg\" alt=\"Omega\" style=\"width:70%\">\n",
    "  <figcaption style=\"text-align: center\">Figure 1: A rectangular region \\(\\Omega \\subset \\mathbb R^2\\) partitioned into two parts (black and white) separated by a boundary \\(\\partial\\).</figcaption>\n",
    "</figure>\n",
    "\n",
    "A rigorous discussion of mean curvature is beyond the scope of this post. It suffices to note that the mean curvature of a surface embedded in a higher dimensional space is a local measure of how \"curvy\" the surface is at any particular point. In the present context, our \"surface\" is just the one-dimensional curve \\(\\partial\\), the ambient space is \\(\\mathbb R^2\\), and mean curvature reduces to the same notion of curvature that one encounters in an introductory vector calculus class. The boundary \\(\\partial\\) is said to \"move by mean curvature\" or \"evolve under mean curvature flow\" if a point \\(\\mathbf r\\) on \\(\\partial\\) moves in a normal direction to \\(\\partial\\) with velocity proportional to the mean curvature (i.e., curvature) of \\(\\partial\\) at \\(\\mathbf r\\). In other words, points at which the boundary is \"curvy\" will move faster than points at which the boundary is relatively straight. For example, consider the following images.\n",
    "\n",
    "<figure>\n",
    "        <div class=\"caption\">Figure 2: The evolution of \\(\\Omega\\) as the boundary \\(\\partial\\) moves by mean curvature.</div>\n",
    "    <div class=\"row\">\n",
    "        <div class=\"column\">\n",
    "            <img src=\"./media/motion_by_mean_curvature/images/threshold0.jpg\" alt=\"Omega at initial time.\" style=\"width:100%\">\n",
    "            <div class=\"caption\">(a) \\(\\Omega\\) at an initial time.</div>\n",
    "        </div>\n",
    "        <div class=\"column\">\n",
    "            <img src=\"./media/motion_by_mean_curvature/images/threshold70.jpg\" alt=\"Omega at a later time.\" style=\"width:100%\">\n",
    "            <div class=\"caption\">(b) \\(\\Omega\\) after the boundary \\(\\partial\\) has evolved under mean curvature flow for some time.</div>\n",
    "        </div>\n",
    "        <div class=\"column\">\n",
    "            <img src=\"./media/motion_by_mean_curvature/images/mbo_composite.png\" alt=\"Superimposed.\" style=\"width:100%\">\n",
    "            <div class=\"caption\">(c) The initial and final configurations of \\(\\Omega\\) superimposed.</div>\n",
    "        </div>\n",
    "    </div>\n",
    "</figure>\n",
    "\n",
    "Figure 2a shows \\(\\Omega\\) at an initial time and Figure 2b shows \\(\\Omega\\) after the boundary \\(\\partial\\) has evolved under mean curvature. In Figure 2c, the initial and final configurations of \\(\\Omega\\) are superimposed, and red arrows indicate the motion of a few select points along the boundary. Notice that points at which \\(\\partial\\) has high curvature travel faster and cover greater distance than points at which \\(\\partial\\) has relatively low curvature.\n",
    "\n",
    "The phenomenon of motion by mean curvature is observed in several physical applications. For example, certain distinct fluids do not intermix but are instead separated by a thin region known as a \"diffuse interface\" that evolves under mean curvature flow. A second example occurs in the context of metallurgy, where a metal undergoing phase transition develops an interface between distinct phases (e.g., liquid and solid) that obeys motion by mean curvature. An understanding of mean curvature flow is thus necessary for modeling certain physical phenomena. Motion by mean curvature is of personal interest for an additional reason. The technique I employ to model mean curvature flow, the MBO (Merriman-Bence-Osher) scheme for diffusion generated motion, was subsequently adapted into a semi-supervised learning algorithm [<a id=\"call-merkurjev2013mbo\" href=\"#cit-merkurjev2013mbo\">2</a>] that was the subject of my undergraduate senior thesis. I undertook the current project to better understand the MBO scheme in its original context of mean curvature flow and to generate some cool pictures for my thesis.\n",
    "\n",
    "## MBO Scheme for Diffusion Generated Motion by Mean Curvature\n",
    "\n",
    "The MBO scheme for diffusion generated motion is a remarkably simple technique to model mean curvature flow. Suppose that \\(\\Omega\\) is a subset of the plane partitioned into two parts as previously explained. Let the \"characteristic function\" \\(\\chi : \\Omega \\times T \\rightarrow \\mathbb R\\), where \\(\\chi(\\mathbf r, t) = 0\\) if \\(\\mathbf r\\) belongs to the first part in the partition at time \\(t\\), and 0 if it belongs to the second part (we sometimes omit the argument \\(t\\) for convenience). The MBO scheme first diffuses the characteristic function \\(\\chi\\) for some short time step, then thresholds by rounding \\(\\chi(\\mathbf r)\\) to 0 or 1 for all points \\(\\mathbf r \\in \\Omega\\). By alternating between diffusion and thresholding steps, the MBO scheme approximates the motion by mean curvature of the boundary \\(\\partial\\) [<a id=\"call-barles1995convergence\" href=\"#cit-barles1995convergence\">3</a>]  [<a id=\"call-evans1993convergence\" href=\"#cit-evans1993convergence\">4</a>]. An outline of the scheme is provided below.\n",
    "\n",
    "---\n",
    "\n",
    "__Input:__ characteristic function \\(\\chi\\), time step \\(k\\)\n",
    "\n",
    "1. __until convergence:__\n",
    "    1. Diffuse \\(\\chi\\) for \\(k\\) units of time.\n",
    "    1. \\(\\forall \\mathbf r \\in \\Omega, \\chi(\\mathbf r) \\gets \\begin{cases} 1 & \\mbox{if } \\chi(\\mathbf r) \\geq \\frac 12,\\\\0 & \\mbox{otherwise.}\\end{cases}\\)\n",
    "1. __return__ \\(\\chi\\)\n",
    "\n",
    "__Output:__ updated \\(\\chi\\)\n",
    "\n",
    "---\n",
    "\n",
    "For simplicity, I have outlined and implemented the MBO scheme for a two-dimensional domain partitioned into two parts. However, the scheme is quite flexible and may be generalized in a straightforward manner to higher dimensional domains partitioned into an arbitrary number of parts.\n",
    "    \n",
    "### Diffusion\n",
    "\n",
    "The most expensive aspect of the MBO scheme, in terms of both computational cost and implementation effort, is the diffusion of the characteristic function \\(\\chi\\). I will briefly introduce the diffusion equation and will describe one simple numerical method to solve it.\n",
    "\n",
    "#### Diffusion Equation\n",
    "\n",
    "Suppose that \\(\\Omega \\subset \\mathbb R^2\\) is a bounded and simply connected spatial region occupied by a diffusing material. Let \\(T = [0, \\infty)\\) denote some range of time and let \\(\\rho : \\Omega \\times T \\rightarrow \\mathbb R\\), where \\(\\rho(\\mathbf r, t)\\) denotes the concentration of the diffusing material at position \\(\\mathbf r \\in \\Omega\\) and time \\(t \\in T\\). The physics of diffusion is governed by the diffusion equation\n",
    "\n",
    "\\begin{equation*}\n",
    "\\frac{\\partial \\rho}{\\partial t} = D \\Delta \\rho,\n",
    "\\end{equation*}\n",
    "\n",
    "where the \"diffusion coefficient\" \\(D\\) has dimensions \\(\\left[\\frac{(length)^2}{time}\\right]\\) and determines the rate of diffusion of the material in question (we shall assume for the sake of simplicity that \\(D\\) is constant, although it may in general be a function of the concentration \\(\\rho\\) and position \\(\\mathbf r\\)). The diffusion of heat obeys the same law as a diffusing material. Thus, the above equation is referred to as the \"heat equation\" when \\(\\rho\\) denotes temperature rather than concentration.\n",
    "\n",
    "In addition, we'll assume we have complete knowledge of \\(\\rho\\) on \\(\\partial\\) given by the Dirichlet boundary conditions\n",
    "\n",
    "\\begin{equation*}\n",
    "\\rho(\\mathbf r) = f(\\mathbf r)\n",
    "\\end{equation*}\n",
    "\n",
    "for \\(\\mathbf r \\in \\partial\\) (where \\(f : \\partial \\rightarrow \\mathbb R\\) is known). This assumption guarantees a unique solution to the diffusion equation above.\n",
    "\n",
    "#### Numerical Scheme\n",
    "\n",
    "TL;DR: Have a look at Equation \\ref{eq:poisson_system} and skip to the <a href=\"#implementation\">implementation</a>.\n",
    "\n",
    "This section presents one possible method for numerically solving the diffusion equation using a finite difference scheme and the Method of Lines. For simplicity, assume that \\(\\Omega = [a, b] \\times [c, d]\\) is a rectangular subset of the plane and divide the intervals \\([a, b]\\) and \\([c, d]\\) into \\(n + 1\\) and \\(m + 1\\) subintervals of length \\(h_x = (b - a) / (n + 1)\\) and \\(h_y = (d - c) / (m + 1)\\), respectively. Then define \\(x_i := a + ih_x\\) for \\(i=0, 1, 2, \\ldots, n+1\\) and \\(y_j := c + j h_y\\) for \\(j = 0, 1, 2, \\ldots, m+1\\). At each meshpoint \\((x_i, y_j)\\), we can approximate \\(\\Delta \\chi\\) using the second-order central finite difference\n",
    "\n",
    "\\begin{equation*}\n",
    "\\Delta \\chi(x_i, y_j) = \\chi_{xx}(x_i, y_j) + \\chi_{yy}(x_i, y_j)  \\approx \\frac{\\chi_{i,j+1} - 2\\chi_{i,j} + \\chi_{i,j-1}}{h_x^2} + \\frac{\\chi_{i+1,j} - 2 \\chi_{i,j} + \\chi_{i - 1, j} }{h_y^2},\n",
    "\\end{equation*}  \n",
    "\n",
    "where \\(\\chi_{i,j} := \\chi(x_i, y_j)\\) for \\(0 \\leq i \\leq m+1, 0 \\leq j \\leq n+1\\). Setting the diffusion coefficient \\(D = 1\\), we have\n",
    "\n",
    "\\begin{equation} \\label{eq:expanded_poisson_system}\n",
    "-\\frac{\\partial \\chi}{\\partial t} (x_i, y_j) \\approx -\\frac{1}{h_y^2}\\chi_{i-1,j} - \\frac{1}{h_x^2} \\chi_{i, j-1} + \\left(\\frac{2}{h_x^2} + \\frac{2}{h_y^2}\\right) \\chi_{i,j} - \\frac{1}{h_x^2} \\chi_{i,j+1} - \\frac{1}{h_y^2} \\chi_{i+1,j}\n",
    "\\end{equation}\n",
    "\n",
    "\n",
    "for \\(1 \\leq i \\leq m, 1 \\leq j \\leq n\\). The above system of equations may be conveniently expressed in matrix notation by defining\n",
    "- \\(\\vec\\chi(t) := \\left(\\chi_{1,1}(t), \\chi_{1,2}(t), \\ldots, \\chi_{1,n}(t), \\chi_{2,1}(t), \\chi_{2,2}(t), \\ldots, \\chi_{2,n}(t), \\ldots, \\chi_{m,1}(t), \\chi_{m,2}(t), \\ldots, \\chi_{m,n}(t)\\right)^T\\) for time \\(t\\),\n",
    "\n",
    "- the tridiagonal matrix \\(B_{h_x, h_y} \\in \\mathbb R^{n \\times n}\\),\n",
    "\\begin{equation*}\n",
    "B_{h_x, h_y} :=\n",
    "\\begin{pmatrix}\n",
    "\\frac{2}{h_x^2} + \\frac{2}{h_y^2} & -\\frac{1}{h_x^2} & & & & \\\\\n",
    "-\\frac{1}{h_x^2} & \\frac{2}{h_x^2} + \\frac{2}{h_y^2} & \\ddots & & & \\\\\n",
    "& \\ddots & \\ddots & -\\frac{1}{h_x^2} & & \\\\\n",
    "& & -\\frac{1}{h_x^2} & \\frac{2}{h_x^2} + \\frac{2}{h_y^2} & -\\frac{1}{h_x^2} & \\\\\n",
    "& & & -\\frac{1}{h_x^2} & \\frac{2}{h_x^2} + \\frac{2}{h_y^2} \\\\\n",
    "\\end{pmatrix},\n",
    "\\end{equation*}\n",
    "\n",
    "- the block-tridiagonal matrix \\(A_{h_x, h_y} \\in \\mathbb R^{mn \\times mn}\\),\n",
    "\\begin{equation*}\n",
    "A_{h_x, h_y} :=\n",
    "\\begin{pmatrix}\n",
    "B_{h_x, h_y} & -\\frac{1}{h_y^2}I_n & & & & \\\\\n",
    "-\\frac{1}{h_y^2}I_n & B_{h_x, h_y} & \\ddots & & & \\\\\n",
    "& \\ddots & \\ddots & -\\frac{1}{h_y^2}I_n & & \\\\\n",
    "& & -\\frac{1}{h_y^2}I_n & B_{h_x, h_y} & -\\frac{1}{h_y^2}I_n & \\\\\n",
    "& & & -\\frac{1}{h_y^2}I_n & B_{h_x, h_y} \\\\\n",
    "\\end{pmatrix},\n",
    "\\end{equation*}\n",
    "\n",
    "- and boundary conditions \\(\\mathbf b \\in \\mathbb R^{nm}\\),\n",
    "\\begin{equation*}\n",
    "\\mathbf b :=\n",
    "\\frac{1}{h_y^2}\n",
    "\\begin{pmatrix}\n",
    "\\chi_{0,1} \\\\ \\chi_{0,2} \\\\ \\vdots \\\\ \\chi_{0,n} \\\\ 0 \\\\ \\vdots \\\\ 0 \\\\ \\chi_{m+1,1} \\\\ \\chi_{m+1,2}\\\\ \\vdots \\\\ \\chi_{m+1,n}\n",
    "\\end{pmatrix}\n",
    "\\; + \\;\n",
    "\\frac{1}{h_x^2}\n",
    "\\begin{pmatrix}\n",
    "\\chi_{1,1} \\\\ 0 \\\\ \\vdots \\\\ 0 \\\\ \\chi_{1,n} \\\\ \\chi_{2,1} \\\\ 0 \\\\ \\vdots \\\\ 0 \\\\ \\chi_{2,n} \\\\ \\vdots \\\\ \\chi_{m,1} \\\\ 0 \\\\ \\vdots \\\\ 0 \\\\ \\chi_{m,n}\n",
    "\\end{pmatrix}.\n",
    "\\end{equation*}\n",
    "\n",
    "You can verify that the _(j + (i-1)n)<sup>th</sup>_ coordinate of \\(A_{h_x,h_y}\\vec\\chi - \\mathbf b\\) is just the right-hand side of \\eqref{eq:expanded_poisson_system}. To approximate the left-hand side, let \\(t_0\\) denote the initial time and \\(t_1 = t_0 + k\\) denote the final time after time step \\(k\\) has elapsed. Using implicit Euler method, we approximate\n",
    "\n",
    "\\begin{equation*}\n",
    "\\frac{\\vec\\chi(t_0) - \\vec\\chi(t_1)}{k} \\approx -\\frac{\\partial \\vec \\chi}{\\partial t} \\approx A_{h_x,h_y}\\vec\\chi(t_1) - \\mathbf b.\n",
    "\\end{equation*}\n",
    "\n",
    "Rearranging terms, we have the linear system\n",
    "\n",
    "\\begin{equation} \\label{eq:poisson_system}\n",
    "\\vec \\chi(t_0) + k\\mathbf b \\approx \\left(I_{nm} + kA_{h_x, h_y}\\right) \\vec\\chi(t_1),\n",
    "\\end{equation}\n",
    "\n",
    "which we solve for the diffused characteristic function \\(\\vec\\chi(t_1)\\).\n",
    "\n",
    "<a id=\"implementation\"></a>\n",
    "## Implementation\n",
    "\n",
    "All matrices are sparse. The matrix \\(A_{h_x, h_y}\\) may be conveniently constructed as\n",
    "\n",
    "\\begin{equation*}\n",
    "I_m \\otimes B_{h_x, h_y} - \\frac{1}{h_y^2} (C \\otimes I_n),\n",
    "\\end{equation*}\n",
    "\n",
    "where \\(C \\in \\mathbb R^{m \\times m}\\) has ones on the super- and sub-diagonals and zeroes elsewhere, and \\(\\otimes\\) denotes the Kronecker product. The matrix \\(\\left(I_{nm} + kA_{h_x, h_y}\\right)\\) is positive definite. We use Conjugate Gradient Method, a solver for positive definite linear systems that is significantly faster than scipy's generic sparse solver. The diffusion equation is an example of Poisson's equation, an elliptic partial differential equation. While more efficient methods for solving Poisson's equation exist, CG Method enjoys the merits of simplicity and ease of implementation and is fast enough for the current application.\n",
    "\n",
    "Now let's start coding. We first define the characteristic function \\(\\chi\\) for \\(\\Omega\\) at an initial time \\(t_0\\). I chose a cubic polymomial to serve as the boundary \\(\\partial\\) in \\(\\Omega\\) because it is both visually appealing and has non-constant curvature. I also write a convenient function for plotting \\(\\Omega\\)."
   ]
  },
  {
   "cell_type": "code",
   "execution_count": 2,
   "metadata": {
    "slideshow": {
     "slide_type": "slide"
    }
   },
   "outputs": [
    {
     "data": {
      "image/png": "[encoded data removed]",
      "text/plain": [
       "<Figure size 1440x2160 with 2 Axes>"
      ]
     },
     "metadata": {
      "needs_background": "light"
     },
     "output_type": "display_data"
    }
   ],
   "source": [
    "import numpy as np\n",
    "import scipy.sparse as sp\n",
    "import scipy.sparse.linalg as splin\n",
    "%matplotlib inline\n",
    "import matplotlib.pyplot as plt\n",
    "from mpl_toolkits.axes_grid1 import make_axes_locatable\n",
    "import math\n",
    "\n",
    "# Construct a mesh over domain Omega = [-phi, phi] x [-1, 1].\n",
    "phi = (1 + np.sqrt(5))/2\n",
    "a, b, c, d = -1, 1, -phi, phi\n",
    "mesh_size = 1/500    # Approximate mesh size.\n",
    "n, m = math.ceil((b-a) / mesh_size), math.ceil((d-c) / mesh_size)\n",
    "hx, hy = (b-a)/(n+1), (d-c)/(m+1)\n",
    "k = 1/250    # Time step.\n",
    "\n",
    "# Omega is partitioned by a degree 3 polynomial p and has characteristic function chi0.\n",
    "def p(x): return x * (x - 3 * phi / 4) * (x + 3 * phi / 4)\n",
    "def x(i): return a + i * hx\n",
    "def y(j): return c + j * hy\n",
    "grid = np.indices((n+2, m+2))\n",
    "ind = x(grid[0,:,:]) < (3/4) * p(y(grid[1,:,:]))\n",
    "chi0 = np.zeros((n+2, m+2))\n",
    "chi0[ind] = 1\n",
    "            \n",
    "# Define a plotting function.\n",
    "def plot(chi, ax, colorbar=True, T_cool=0, T_hot=1):\n",
    "    ax.tick_params(axis='both',      # Changes apply to the x-axis.\n",
    "                   which='both',     # Both major and minor ticks are affected.\n",
    "                   bottom=False,     # Turn off ticks along edges.\n",
    "                   top=False,\n",
    "                   left=False,\n",
    "                   right=False,\n",
    "                   labelleft=False,  # Turn off labels.\n",
    "                   labelbottom=False)\n",
    "    im = ax.imshow(chi[30:-30,30:-30], cmap=plt.get_cmap('hot'), vmin=T_cool, vmax=T_hot)    \n",
    "    # Create a color axis on the right side of ax.\n",
    "    if colorbar:\n",
    "        divider = make_axes_locatable(ax)\n",
    "        cax = divider.append_axes('right', size='5%', pad=0.05)\n",
    "        cax.tick_params(labelsize=15)\n",
    "        cbar = plt.colorbar(im, cax=cax, ticks=[0, 0.5, 1])\n",
    "        cbar.ax.set_yticklabels(['0', '0.5', '1'])\n",
    "    return\n",
    "\n",
    "# Plot the figure.\n",
    "f1, ax1 = plt.subplots(figsize=(20,30))\n",
    "plot(chi0, ax1)\n",
    "plt.show()"
   ]
  },
  {
   "cell_type": "markdown",
   "metadata": {},
   "source": [
    "The value of \\(\\chi\\) at each point \\(\\mathbf r \\in \\Omega\\) is represented by the colors in the color bar on the right. These colors are meant to evoke heat, with white representing large values of \\(\\chi\\) (hot temperatures), black representing low values of \\(\\chi\\) (cold temperatures), and yellow and representing intermediate values.\n",
    "\n",
    "### Diffusion\n",
    "\n",
    "Now let's implement the previously described numerical scheme and visualize the diffused characteristic function \\(\\chi\\)."
   ]
  },
  {
   "cell_type": "code",
   "execution_count": null,
   "metadata": {},
   "outputs": [],
   "source": [
    "def diffuse(X0, k, hx, hy):\n",
    "    # Important quantities.\n",
    "    n, m = X0.shape[0] - 2, X0.shape[1] - 2\n",
    "    hx_sqinv, hy_sqinv = 1 / hx**2, 1 / hy**2\n",
    "    \n",
    "    # Construct A.\n",
    "    B_diags = [n * [(2 * hx_sqinv) + (2 * hy_sqinv)], (n-1) * [-hx_sqinv], (n-1) * [-hx_sqinv]]\n",
    "    B = sp.diags(B_diags, [0, -1, 1])\n",
    "    C_diags = [(m-1) * [1], (m-1) * [1]]\n",
    "    C = sp.diags(C_diags, [-1, 1])\n",
    "    A = sp.kron(sp.eye(m), B) - hy_sqinv * sp.kron(C, sp.eye(n))\n",
    "    \n",
    "    # Boundary conditions.\n",
    "    b = np.empty(n*m)\n",
    "    b[:n] = hy_sqinv * X0[1:-1,0]\n",
    "    b[n:-n] = 0\n",
    "    b[-n:] = hy_sqinv * X0[1:-1,-1]\n",
    "    temp = np.array(range(b.size))\n",
    "    b[np.mod(temp, n) == 0] += hx_sqinv * X0[0,1:-1]\n",
    "    b[np.mod(temp, n) == n - 1] += hx_sqinv * X0[-1,1:-1]\n",
    "\n",
    "    # Solve linear system and reshape solution, keeping original boundary.\n",
    "    s = X0[1:-1, 1:-1].reshape((n*m,), order='F') + k * b\n",
    "    X_temp, _ = splin.cg(sp.eye(n*m) + k * A, s)\n",
    "    X1 = np.empty(X0.shape, dtype=X0.dtype)\n",
    "    X1[1:-1,1:-1] = X_temp.reshape((n,m), order='F')\n",
    "    X1[0,:], X1[-1,:], X1[:,0], X1[:,-1] = X0[0,:], X0[-1,:], X0[:,0], X0[:,-1]\n",
    "\n",
    "    return X1;\n",
    "\n",
    "# Diffuse.\n",
    "chi1 = diffuse(chi0, k, hx, hy)\n",
    "\n",
    "# Plot.\n",
    "\n",
    "\n",
    "fig2, ax2 = plt.subplots(figsize=(10, 15))\n",
    "plot(chi1, ax2, colorbar=True)\n",
    "plt.show()"
   ]
  },
  {
   "cell_type": "markdown",
   "metadata": {
    "slideshow": {
     "slide_type": "slide"
    }
   },
   "source": [
    "We can iteratively diffuse \\(\\chi\\) to obtain the following video."
   ]
  },
  {
   "cell_type": "code",
   "execution_count": null,
   "metadata": {
    "hide_input": false,
    "slideshow": {
     "slide_type": "-"
    }
   },
   "outputs": [],
   "source": [
    "%%HTML\n",
    "<div align=\"middle\">\n",
    "<video width=\"100%\" controls>\n",
    "      <source src=\"./media/motion_by_mean_curvature/videos/diffuse2d.mp4\" type=\"video/mp4\">\n",
    "</video></div>"
   ]
  },
  {
   "cell_type": "markdown",
   "metadata": {},
   "source": [
    "Of course, the MBO scheme does not iteratively diffuse \\(\\chi\\) as in the above video, but rather inserts a thresholding step in between each diffusion.\n",
    "\n",
    "### Thresholding\n",
    "By comparison to the diffusion step, the thresholding step is extremely simple and can be accomplished in a single line of code. In the cell below, we display side-by-side snapshots of \\(\\Omega\\) before and after one iteration of the MBO scheme (i.e., after one diffusion step and subsequent thresholding)."
   ]
  },
  {
   "cell_type": "code",
   "execution_count": null,
   "metadata": {
    "slideshow": {
     "slide_type": "slide"
    }
   },
   "outputs": [],
   "source": [
    "# Threshold.\n",
    "chi1 = np.round(chi1)\n",
    "\n",
    "# Plot.\n",
    "fig3, (ax3, ax4) = plt.subplots(1, 2, figsize=(15,30))\n",
    "plot(chi0, ax3, colorbar=False)\n",
    "plot(chi1, ax4, colorbar=False)\n",
    "ax3.set_title(r\"$\\Omega$ at initial time.\")\n",
    "ax4.set_title(r\"$\\Omega$ after one iteration of MBO scheme.\")\n",
    "plt.show()"
   ]
  },
  {
   "cell_type": "markdown",
   "metadata": {
    "slideshow": {
     "slide_type": "slide"
    }
   },
   "source": [
    "While the above images appear virtually identical due to the small scale of the time step \\(k\\), the boundary between black and white has in fact shifted ever so slightly.\n",
    "\n",
    "### Final Product\n",
    "\n",
    "By iteratively applying the alternating steps of diffusion and thresholding, the MBO scheme produces the following video of mean curvature flow."
   ]
  },
  {
   "cell_type": "code",
   "execution_count": null,
   "metadata": {
    "hide_input": false
   },
   "outputs": [],
   "source": [
    "%%HTML\n",
    "<div align=\"middle\">\n",
    "<video width=\"100%\" controls>\n",
    "      <source src=\"./media/motion_by_mean_curvature/videos/mbo2d.mp4\" type=\"video/mp4\">\n",
    "</video></div>"
   ]
  },
  {
   "cell_type": "markdown",
   "metadata": {
    "slideshow": {
     "slide_type": "slide"
    }
   },
   "source": [
    "And voil&agrave;! Motion by mean curvature.\n",
    "\n",
    "## Possible Improvements\n",
    "\n",
    "The primary bottleneck in the above code is incurred while solving the linear system in \\eqref{eq:poisson_system}. In the future, I may implement a fast Poisson solver using the Discrete Sine Transform or a multigrid technique in order to improve performance.\n",
    "\n",
    "## Acknowledgment\n",
    "\n",
    "I am thankful to Professor Hailong Guo, whose numerical analysis course and office hour discussions enabled me to understand and implement the finite difference method described above."
   ]
  },
  {
   "cell_type": "markdown",
   "metadata": {},
   "source": [
    "# References\n",
    "\n",
    "[<a id=\"cit-merriman1992diffusion\" href=\"#call-merriman1992diffusion\">1</a>] Barry Merriman, James Kenyard Bence, and Stanley Osher. _Diffusion Generated Motion by Mean Curvature_. Department of Mathematics, University of California, Los Angeles, 1992.\n",
    "\n",
    "[<a id=\"cit-merkurjev2013mbo\" href=\"#call-merkurjev2013mbo\">2</a>] Ekaterina Merkurjev, Tijana Kostic, and Andrea L. Bertozzi. _An MBO Scheme on Graphs for Classification and Image Processing_. SIAM Journal on Imaging Sciences, 6(4):1903–1930, 2013.\n",
    "\n",
    "[<a id=\"cit-barles1995convergence\" href=\"#call-barles1995convergence\">3</a>] Guy Barles and Christine Georgelin. A Simple Proof of Convergence for an Approximation Scheme for\n",
    "Computing Motions by Mean Curvature. SIAM Journal on Numerical Analysis, 32(2):484–500, 1995.\n",
    "\n",
    "[<a id=\"cit-evans1993convergence\" href=\"#call-evans1993convergence\">4</a>] Lawrence C. Evans. Convergence of an Algorithm for Mean Curvature Motion. Indiana University\n",
    "Mathematics Journal, pages 533–557, 1993."
   ]
  },
  {
   "cell_type": "code",
   "execution_count": null,
   "metadata": {
    "hide_input": false,
    "tags": [
     "remove_cell"
    ]
   },
   "outputs": [],
   "source": [
    "%%HTML\n",
    "<style>\n",
    "figure { \n",
    "  margin-top: 2em;\n",
    "  margin-bottom: 2em;\n",
    "}\n",
    ".column {\n",
    "    float: left;\n",
    "    width: 33.1%;\n",
    "    padding: 5px;\n",
    "}\n",
    ".caption {\n",
    "    text-align: center;\n",
    "}\n",
    ".row::after {\n",
    "  content: \"\";\n",
    "  clear: both;\n",
    "  display: table;\n",
    "}\n",
    ".output_png img {\n",
    "    display: block;\n",
    "    margin-left: auto;\n",
    "    margin-right: auto;\n",
    "}\n",
    "</style>"
   ]
  },
  {
   "cell_type": "code",
   "execution_count": null,
   "metadata": {
    "hide_input": false,
    "tags": [
     "remove_cell"
    ]
   },
   "outputs": [],
   "source": [
    "%%javascript\n",
    "MathJax.Hub.Config({\n",
    "    TeX: { equationNumbers: { autoNumber: \"AMS\" } }\n",
    "});"
   ]
  }
 ],
 "metadata": {
  "cite2c": {
   "citations": {
    "6560138/EYLEQP2H": {
     "author": [
      {
       "family": "Merriman",
       "given": "Barry"
      },
      {
       "family": "Bence",
       "given": "James Kenyard"
      },
      {
       "family": "Osher",
       "given": "Stanley"
      }
     ],
     "id": "6560138/EYLEQP2H",
     "issued": {
      "year": 1992
     },
     "publisher": "Department of Mathematics, University of California, Los Angeles",
     "title": "Diffusion Generated Motion by Mean Curvature",
     "type": "book"
    }
   }
  },
  "kernelspec": {
   "display_name": "Python 3",
   "language": "python",
   "name": "python3"
  },
  "language_info": {
   "codemirror_mode": {
    "name": "ipython",
    "version": 3
   },
   "file_extension": ".py",
   "mimetype": "text/x-python",
   "name": "python",
   "nbconvert_exporter": "python",
   "pygments_lexer": "ipython3",
   "version": "3.5.2"
  },
  "latex_envs": {
   "LaTeX_envs_menu_present": true,
   "autoclose": false,
   "autocomplete": false,
   "bibliofile": "motion_by_mean_curvature.bib",
   "cite_by": "number",
   "current_citInitial": 1,
   "eqLabelWithNumbers": true,
   "eqNumInitial": 1,
   "hotkeys": {
    "equation": "Ctrl-E",
    "itemize": "Ctrl-I"
   },
   "labels_anchors": false,
   "latex_user_defs": false,
   "report_style_numbering": false,
   "user_envs_cfg": false
  }
 },
 "nbformat": 4,
 "nbformat_minor": 2
}
